{
 "cells": [
  {
   "cell_type": "code",
   "execution_count": 1,
   "metadata": {},
   "outputs": [],
   "source": [
    "# TASK QUESTIONS:\n",
    "# 3.1.2: Which kernel achieved the best accuracy and F1 score?\n",
    "#   Depends on shuffling. see code\n",
    "\n",
    "from sklearn.svm import SVC\n",
    "from sklearn.datasets import load_iris\n",
    "import numpy as np\n",
    "import matplotlib.pyplot as plt\n",
    "from sklearn.metrics import ConfusionMatrixDisplay,  f1_score, accuracy_score\n",
    "from sklearn.inspection import DecisionBoundaryDisplay\n",
    "from sklearn.model_selection import train_test_split\n",
    "from sklearn.multiclass import OneVsOneClassifier, OneVsRestClassifier\n",
    "from sklearn.linear_model import LogisticRegression"
   ]
  },
  {
   "cell_type": "code",
   "execution_count": 2,
   "metadata": {},
   "outputs": [],
   "source": [
    "iris_data = load_iris()"
   ]
  },
  {
   "cell_type": "code",
   "execution_count": 3,
   "metadata": {},
   "outputs": [],
   "source": [
    "state = 7 # Controls shuffling. Same value gives same splitting results\n",
    "tr_data, te_data, tr_target, te_target = train_test_split(\n",
    "    iris_data.data, iris_data.target, \n",
    "    test_size = 0.2, train_size = 0.8, \n",
    "    random_state = state\n",
    ")"
   ]
  },
  {
   "cell_type": "code",
   "execution_count": 4,
   "metadata": {},
   "outputs": [],
   "source": [
    "kernel_types = [ 'linear', 'poly', 'rbf' ]\n",
    "class_types = [ '', 'ovo-', 'ovr-' ]\n",
    "models = {}\n",
    "\n",
    "# lin, poly, rbf\n",
    "for ktype in kernel_types:\n",
    "    models[ktype] = SVC(kernel=ktype)\n",
    "    models[ktype].fit(tr_data, tr_target)\n",
    "\n",
    "# one-vs-one\n",
    "for ktype in kernel_types:\n",
    "    models['ovo-'+ktype] = OneVsOneClassifier(models[ktype])\n",
    "    models['ovo-'+ktype].fit(tr_data, tr_target)\n",
    "\n",
    "# one-vs-rest\n",
    "for ktype in kernel_types:\n",
    "    models['ovr-'+ktype] = OneVsRestClassifier(models[ktype])\n",
    "    models['ovr-'+ktype].fit(tr_data, tr_target)"
   ]
  },
  {
   "cell_type": "code",
   "execution_count": 5,
   "metadata": {},
   "outputs": [],
   "source": [
    "# Confusion matrices\n",
    "np.set_printoptions(precision=2)\n",
    "\n",
    "# '', 'ovo-' (one-vs-one), 'ovr-' (one-vs-rest)\n",
    "model_type = 'ovr-'\n",
    "\n",
    "def plotConfusionMatrix(kernel):\n",
    "    kernel = model_type + kernel\n",
    "    disp = ConfusionMatrixDisplay.from_estimator(\n",
    "        models[kernel],\n",
    "        te_data,\n",
    "        te_target,\n",
    "        display_labels=iris_data.target_names,\n",
    "        cmap = plt.cm.Blues,\n",
    "        normalize = 'true',\n",
    "    )\n",
    "    disp.ax_.set_title(\"Kernel = \" + kernel)\n",
    "\n",
    "plotConfusionMatrix('linear')\n",
    "plotConfusionMatrix('poly')\n",
    "plotConfusionMatrix('rbf')\n",
    "plt.show()"
   ]
  },
  {
   "cell_type": "code",
   "execution_count": 14,
   "metadata": {},
   "outputs": [
    {
     "name": "stdout",
     "output_type": "stream",
     "text": [
      "===================== Best results\n",
      "f1: (0.9666666666666667, 'linear')\n",
      "acc: (0.9666666666666667, 'linear')\n"
     ]
    }
   ],
   "source": [
    "# F1 + accuracy scores for kernels\n",
    "best_f1 = (0, None)\n",
    "best_acc = (0, None)\n",
    "for c in class_types:\n",
    "    for k in kernel_types:\n",
    "        k = c + k\n",
    "        preds = models[k].predict(te_data)\n",
    "        f1 = f1_score(te_target, preds, average='micro')\n",
    "        acc = accuracy_score(te_target, preds)\n",
    "        if acc > best_acc[0]: best_acc = (acc, k)\n",
    "        if f1 > best_f1[0]: best_f1 = (f1, k)\n",
    "        print(k + \" f1: \" + str(f1) + \"\\n\" + k + \" acc: \" + str(acc))\n",
    "\n",
    "print(\"===================== Best results\")\n",
    "print(\"f1: \" + str(best_f1) + \"\\nacc: \" + str(best_acc))\n"
   ]
  },
  {
   "cell_type": "code",
   "execution_count": 7,
   "metadata": {},
   "outputs": [],
   "source": [
    "# Extract support vectors\n",
    "def printOvR(kernel):\n",
    "    for e in models['ovr-'+kernel].estimators_:\n",
    "        print(\"===============================\")\n",
    "        print(e.support_vectors_)\n",
    "\n",
    "printOvR('linear')"
   ]
  },
  {
   "cell_type": "code",
   "execution_count": 8,
   "metadata": {},
   "outputs": [],
   "source": [
    "# Decision boundry\n",
    "def plotDB(X):\n",
    "    m = LogisticRegression().fit(X, iris_data.target)\n",
    "    disp = DecisionBoundaryDisplay.from_estimator(\n",
    "        m, X, response_method=\"predict\",\n",
    "        xlabel = iris_data.feature_names[0], ylabel = iris_data.feature_names[1],\n",
    "        alpha = 0.5\n",
    "    )\n",
    "    disp.ax_.scatter(X[:, 0], X[:, 1], c=iris_data.target, edgecolor=\"k\")\n",
    "\n",
    "plotDB(iris_data.data[:, 1:3]) #  2vs3\n",
    "plotDB(iris_data.data[:, 2:4]) # 3vs4\n",
    "plt.show()\n"
   ]
  }
 ],
 "metadata": {
  "kernelspec": {
   "display_name": "Python 3",
   "language": "python",
   "name": "python3"
  },
  "language_info": {
   "codemirror_mode": {
    "name": "ipython",
    "version": 3
   },
   "file_extension": ".py",
   "mimetype": "text/x-python",
   "name": "python",
   "nbconvert_exporter": "python",
   "pygments_lexer": "ipython3",
   "version": "3.11.6"
  }
 },
 "nbformat": 4,
 "nbformat_minor": 2
}
