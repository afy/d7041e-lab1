{
 "cells": [
  {
   "cell_type": "code",
   "execution_count": 43,
   "metadata": {},
   "outputs": [],
   "source": [
    "# TASK QUESTIONS:\n",
    "# 2.1.1: What is the accuracy of this method?\n",
    "#   26.49%\n",
    "# 2.1.2: How has the accuracy changed now?\n",
    "#   19.00%\n",
    "# 2.1.3: Where/What is the bug?\n",
    "#   It was a int overflow, it went from a 8 bit to a 32 bit (distance varable). \n",
    "#   Thus creating a overflow. This was fixed by converting the input arrays to 32 bits (.astype(int)).\n",
    "# 2.2.2: What is the accuracy with best k?\n",
    "#   Depends on permutation, see code prints\n",
    "\n",
    "import numpy as np\n",
    "from matplotlib import pyplot as plt\n",
    "import random"
   ]
  },
  {
   "cell_type": "code",
   "execution_count": 44,
   "metadata": {},
   "outputs": [],
   "source": [
    "from keras.datasets import mnist\n",
    "(Xtr, Ltr), (test_d, L_test) = mnist.load_data()"
   ]
  },
  {
   "cell_type": "code",
   "execution_count": 45,
   "metadata": {},
   "outputs": [],
   "source": [
    "num_sample=500\n",
    "Tr_set=Xtr[:num_sample,:,:]\n",
    "Ltr_set=Ltr[:num_sample]\n",
    "\n",
    "# Bugged: Tr_set=Tr_set.reshape(num_sample,Tr_set.shape[1]*Tr_set.shape[2])\n",
    "\n",
    "# FIXED VIA .astype(int) on training set in this block\n",
    "# When printing type(..) on operations in the 1-nn code,\n",
    "# note that the training set types = int8 and the distance types = int32\n",
    "# presuming some sort of overflow or other arithmetic error\n",
    "\n",
    "Tr_set=Tr_set.reshape(num_sample,Tr_set.shape[1]*Tr_set.shape[2])\n",
    "Tr_set=Tr_set.astype(int)"
   ]
  },
  {
   "cell_type": "code",
   "execution_count": 46,
   "metadata": {},
   "outputs": [],
   "source": [
    "# 2.1.1\n",
    "def predict_1NN_L1(X):\n",
    "    num_test = X.shape[0]\n",
    "    Lpred=np.zeros(num_test, dtype = Ltr_set.dtype)\n",
    "    \n",
    "    for i in range(num_test):\n",
    "        distances = np.sum(np.abs(Tr_set-X[i,:]),axis=1)\n",
    "        min_index = np.argmin(distances)\n",
    "        Lpred[i] = Ltr_set[min_index]\n",
    "        \n",
    "    return Lpred"
   ]
  },
  {
   "cell_type": "code",
   "execution_count": 47,
   "metadata": {},
   "outputs": [],
   "source": [
    "# 2.1.2\n",
    "def predict_1NN_L2(X):\n",
    "    num_test = X.shape[0]\n",
    "    Lpred=np.zeros(num_test, dtype = Ltr_set.dtype)\n",
    "    for i in range(num_test):\n",
    "        distances = np.sqrt(np.sum((np.abs(Tr_set-X[i,:])**2), axis=1))       \n",
    "        min_index = np.argmin(distances)\n",
    "        Lpred[i] = Ltr_set[min_index]\n",
    "    return Lpred"
   ]
  },
  {
   "cell_type": "code",
   "execution_count": 48,
   "metadata": {},
   "outputs": [],
   "source": [
    "# 2.1.4\n",
    "# find the most common element in a list\n",
    "def mostCommonElement(l):\n",
    "    vals = {}\n",
    "    curr_max = curr_val = 0\n",
    "    for e in l:\n",
    "        if e not in vals: vals[e] = 0\n",
    "        vals[e] += 1\n",
    "        if vals[e] > curr_max:\n",
    "            curr_max = vals[e]\n",
    "            curr_val = e\n",
    "    return curr_val       \n",
    "\n",
    "# k-NN using L2 norm\n",
    "def predict_kNN_L2(k, test_d, train_d, train_l):\n",
    "    num_test = test_d.shape[0]\n",
    "    Lpred = np.zeros(num_test, dtype = train_l.dtype)\n",
    "    for i in range(num_test):\n",
    "        distances = np.sqrt(np.sum((np.abs(train_d-test_d[i,:])**2), axis=1))\n",
    "\n",
    "        # vote\n",
    "        best_guesses = []\n",
    "        for j in range(0, k):\n",
    "            min_index = np.argmin(distances)\n",
    "            best_guesses.append(Ltr_set[min_index])\n",
    "            distances = np.delete(distances, min_index) # already marked; remove from possible neighbours\n",
    "\n",
    "        Lpred[i] = mostCommonElement(best_guesses)    \n",
    "    return Lpred"
   ]
  },
  {
   "cell_type": "code",
   "execution_count": 49,
   "metadata": {},
   "outputs": [],
   "source": [
    "# 2.2 helper functions\n",
    "def permuteKnnTestSet(data, labels):\n",
    "    order = np.arange(len(data))\n",
    "    np.random.shuffle(order)\n",
    "    return data[order], labels[order]"
   ]
  },
  {
   "cell_type": "code",
   "execution_count": 57,
   "metadata": {},
   "outputs": [
    {
     "name": "stdout",
     "output_type": "stream",
     "text": [
      "1\n",
      "0.8294\n"
     ]
    }
   ],
   "source": [
    "# 2.2\n",
    "# return value and index of the element in the list with highest value\n",
    "def highestElement(l):\n",
    "        max_v, max_i = l[0], 0\n",
    "        for i in range(0, len(l)):\n",
    "            if l[i] > max_v:\n",
    "                max_v = l[i]\n",
    "                max_i = i\n",
    "        return max_v, max_i\n",
    "\n",
    "# perform 3-fold cross-validation to find best k value in range (0,kmax)\n",
    "# returns best k value found\n",
    "def cv_3fold(test_d, test_l, kmax=10):\n",
    "    no_folds = 3\n",
    "    best_k = []\n",
    "    for i in range(0, no_folds):\n",
    "        test_d, test_l = permuteKnnTestSet(test_d, test_l)\n",
    "        folds = np.array_split(test_d, no_folds) \n",
    "        folds_labels = np.array_split(test_l, no_folds) # labels\n",
    "\n",
    "        # divide data into folds\n",
    "        test_set, train_set = folds.pop(i), np.concatenate((folds[0], folds[1]))\n",
    "        test_labels, train_labels = folds_labels.pop(i), np.concatenate((folds[0], folds[1]))\n",
    "\n",
    "        # find best k for this fold\n",
    "        accuracies = []\n",
    "        for k in range(0, kmax):\n",
    "            accuracies.append(np.mean(predict_kNN_L2(k, test_set, train_set, train_labels) == test_labels))\n",
    "        v, k = highestElement(accuracies)\n",
    "        #print(v, k)\n",
    "        best_k.append(k)\n",
    "    return mostCommonElement(best_k)\n",
    "    \n",
    "best_k = cv_3fold(Tr_set, Ltr_set)\n",
    "print(best_k)\n",
    "\n",
    "# Check acc for best k found\n",
    "Test_images = test_d.reshape(test_d.shape[0],test_d.shape[1]* test_d.shape[2])\n",
    "print(np.mean(predict_kNN_L2(best_k, Test_images, Tr_set, Ltr_set) == L_test))"
   ]
  },
  {
   "cell_type": "code",
   "execution_count": 51,
   "metadata": {},
   "outputs": [
    {
     "name": "stdout",
     "output_type": "stream",
     "text": [
      "Accuracy: 0.8294\n"
     ]
    }
   ],
   "source": [
    "Test_images=test_d.reshape(test_d.shape[0],test_d.shape[1]* test_d.shape[2])\n",
    "Lpred2 = predict_1NN_L2(Test_images)\n",
    "print(\"Accuracy:\", np.mean(Lpred2==L_test))"
   ]
  }
 ],
 "metadata": {
  "kernelspec": {
   "display_name": "Python 3",
   "language": "python",
   "name": "python3"
  },
  "language_info": {
   "codemirror_mode": {
    "name": "ipython",
    "version": 3
   },
   "file_extension": ".py",
   "mimetype": "text/x-python",
   "name": "python",
   "nbconvert_exporter": "python",
   "pygments_lexer": "ipython3",
   "version": "3.11.6"
  }
 },
 "nbformat": 4,
 "nbformat_minor": 2
}
